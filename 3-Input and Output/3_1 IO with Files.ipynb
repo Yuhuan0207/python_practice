{
 "cells": [
  {
   "cell_type": "markdown",
   "metadata": {},
   "source": [
    "# File I/O\n",
    "File is a named location on disk to store related information. It is used to permanently store data in a non-volatile memory (e.g. hard disk).\n",
    "\n",
    "\n",
    "## 1. Open file\n",
    "- `open(file, mode='r', buffering=-1, encoding=None, errors=None, newline=None, closefd=True, opener=None)` [Ref](https://docs.python.org/3/library/functions.html#open)\n",
    "- Character & Meaning\n",
    "    - `'r'`: open for reading (default)\n",
    "    - `'w'`: open for writing, truncating the file first\n",
    "    - `'x'`: open for exclusive creation, failing if the file already exists\n",
    "    - `'a'`: open for writing, appending to the end of the file if it exists\n",
    "    - `'b'`: binary mode\n",
    "    - `'t'`: text mode (default)\n",
    "    - `'+'`: open for updating (reading and writing)"
   ]
  },
  {
   "cell_type": "code",
   "execution_count": 3,
   "metadata": {},
   "outputs": [
    {
     "name": "stdout",
     "output_type": "stream",
     "text": [
      "/Users/yuhuan/Documents/Proj/python_practice/3-Input and Output\n",
      "\n",
      "-------\n",
      "\n",
      "Hi, this is a test file.\n",
      "<class '_io.TextIOWrapper'>\n"
     ]
    }
   ],
   "source": [
    "import os\n",
    "print(os.getcwd())\n",
    "print(\"\\n-------\\n\")\n",
    "f = open(\"test_file.txt\",\"r\")\n",
    "for line in f:\n",
    "    print(line)\n",
    "print(type(f))"
   ]
  },
  {
   "cell_type": "markdown",
   "metadata": {},
   "source": [
    "----\n",
    "## 2. Close file\n",
    "- Closing a file will **free up the resources** that were tied with the file and is done using Python close() method.\n",
    "- Python has a **garbage collector** to clean up **unreferenced objects** but, we must not rely on it to close the file.\n",
    "\n",
    "\n",
    "### 2.1 Ordinary Approach\n",
    "```\n",
    "f = open(\"test.txt\",encoding = 'utf-8')\n",
    "# perform file operations\n",
    "f.close()\n",
    "```\n",
    "\n",
    "### 2.2 Optimized Approach\n",
    "If an exception occurs when performing some operation with the file, the code exits without closing the file. Therefore use `try...finally..`\n",
    "```\n",
    "try:\n",
    "   f = open(\"test.txt\",encoding = 'utf-8')\n",
    "   # perform file operations\n",
    "finally:\n",
    "   f.close()\n",
    "```\n",
    "\n",
    "### 2.3 Best Approach\n",
    "Using the `with` statement, the file is closed when the block inside with is exited. It will be done internally without calling `close()` function.\n",
    "```\n",
    "with open(\"test.txt\",encoding = 'utf-8') as f:\n",
    "   # perform file operations\n",
    "```\n"
   ]
  },
  {
   "cell_type": "markdown",
   "metadata": {},
   "source": [
    "------\n",
    "## 3. Read file\n",
    "- Must open the file in reading mode.\n",
    "- Methods\n",
    "    - `read(size)`: read in size number of data. (If no `size`, reads and returns up to the end of the file)\n",
    "\n",
    "    - `tell()`: returns the position of cursor\n",
    "\n",
    "    - `seek(position)`: bring cursor to a certain position\n",
    "\n",
    "    - read with `for` loop\n",
    "        ```\n",
    "        >>> for line in f:\n",
    "        ...     print(line, end = '')\n",
    "        ```\n",
    "\n",
    "    - `readline()`: read the line with `\\n` as new line\n",
    "\n",
    "    - `readlines()`: read all lines with `\\n` as new line\n"
   ]
  },
  {
   "cell_type": "code",
   "execution_count": 12,
   "metadata": {},
   "outputs": [
    {
     "name": "stdout",
     "output_type": "stream",
     "text": [
      "---read(4)---\n",
      "Hi, \n",
      "---another read(4)---\n",
      "this\n",
      "---no size now---\n",
      " is a test file.\n",
      "I have to type in some random text,\n",
      "you know, for the purpose of testing.\n"
     ]
    },
    {
     "data": {
      "text/plain": [
       "''"
      ]
     },
     "execution_count": 12,
     "metadata": {},
     "output_type": "execute_result"
    }
   ],
   "source": [
    "# read(size)\n",
    "f = open(\"test_file.txt\",\"r\")\n",
    "print('---read(4)---')\n",
    "print(f.read(4))\n",
    "print('---another read(4)---')\n",
    "print(f.read(4))\n",
    "print('---no size now---')\n",
    "print(f.read())\n",
    "\n"
   ]
  },
  {
   "cell_type": "code",
   "execution_count": 13,
   "metadata": {},
   "outputs": [
    {
     "data": {
      "text/plain": [
       "'Hi, this is a test file.\\nI have to type in some random text,\\nyou know, for the purpose of testing.'"
      ]
     },
     "execution_count": 13,
     "metadata": {},
     "output_type": "execute_result"
    }
   ],
   "source": [
    "f = open(\"test_file.txt\",\"r\")\n",
    "f.read()"
   ]
  },
  {
   "cell_type": "code",
   "execution_count": 15,
   "metadata": {},
   "outputs": [
    {
     "name": "stdout",
     "output_type": "stream",
     "text": [
      "---read again with no size---\n"
     ]
    },
    {
     "data": {
      "text/plain": [
       "''"
      ]
     },
     "execution_count": 15,
     "metadata": {},
     "output_type": "execute_result"
    }
   ],
   "source": [
    "print('---read again with no size---')\n",
    "f.read()"
   ]
  },
  {
   "cell_type": "code",
   "execution_count": 19,
   "metadata": {},
   "outputs": [
    {
     "data": {
      "text/plain": [
       "'Hi, this is a test file.\\n'"
      ]
     },
     "execution_count": 19,
     "metadata": {},
     "output_type": "execute_result"
    }
   ],
   "source": [
    "f.seek(0)\n",
    "f.readline()"
   ]
  },
  {
   "cell_type": "code",
   "execution_count": 21,
   "metadata": {},
   "outputs": [
    {
     "data": {
      "text/plain": [
       "[]"
      ]
     },
     "execution_count": 21,
     "metadata": {},
     "output_type": "execute_result"
    }
   ],
   "source": [
    "f.readlines()"
   ]
  },
  {
   "cell_type": "markdown",
   "metadata": {},
   "source": [
    "-----\n",
    "## 4. Write file\n",
    "- need to open it in write `'w'`(will erase previous data), append `'a'` or exclusive creation `'x'` mode.\n"
   ]
  },
  {
   "cell_type": "code",
   "execution_count": 27,
   "metadata": {},
   "outputs": [
    {
     "name": "stdout",
     "output_type": "stream",
     "text": [
      "['my first file\\n', 'This file\\n', '\\n', 'contains three lines\\n']\n"
     ]
    }
   ],
   "source": [
    "with open(\"test.txt\",'w',encoding = 'utf-8') as new_file:\n",
    "    new_file.write(\"my first file\\n\")\n",
    "    new_file.write(\"This file\\n\\n\")\n",
    "    new_file.write(\"contains three lines\\n\")\n",
    "\n",
    "with open(\"test.txt\",\"r\") as test:\n",
    "    print(test.readlines())"
   ]
  },
  {
   "cell_type": "code",
   "execution_count": null,
   "metadata": {},
   "outputs": [],
   "source": []
  },
  {
   "cell_type": "markdown",
   "metadata": {},
   "source": [
    "---\n",
    "## 5. File Methods\n",
    "Methods available with the file object. \n",
    "\n",
    "- `close()`: Close an open file. It has no effect if the file is already closed.\n",
    "\n",
    "- `detach()`: Separate the underlying binary buffer from the TextIOBase and return it.\n",
    "\n",
    "- `fileno()`: Return an integer number (file descriptor) of the file.\n",
    "\n",
    "- `flush()`: Flush the write buffer of the file stream.\n",
    "\n",
    "- `isatty()`: Return True if the file stream is interactive.\n",
    "\n",
    "- `read(n)`: Read atmost n characters form the file. Reads till end of file if it is negative or None.\n",
    "\n",
    "- `readable()`: Returns True if the file stream can be read from.\n",
    "\n",
    "- `readline(n=-1)`: Read and return one line from the file. Reads in at most n bytes if specified.\n",
    "\n",
    "- `readlines(n=-1)`: Read and return a list of lines from the file. Reads in at most n bytes/characters if specified.\n",
    "\n",
    "- `seek(offset,from=SEEK_SET)`:\tChange the file position to offset bytes, in reference to from (start, current, end).\n",
    "\n",
    "- `seekable()`:\tReturns True if the file stream supports random access.\n",
    "\n",
    "- `tell()`: Returns the current file location.\n",
    "\n",
    "- `truncate(size=None)`: Resize the file stream to size bytes. If size is not specified, resize to current location.\n",
    "\n",
    "- `writable()`: Returns True if the file stream can be written to.\n",
    "\n",
    "- `write(s)`: Write string s to the file and return the number of characters written.\n",
    "\n",
    "- `writelines(lines)`: Write a list of lines to the file.\n",
    "\n",
    "\n",
    "\n",
    "---\n",
    "## References\n",
    "- [Python File I/O](https://www.programiz.com/python-programming/file-operation)"
   ]
  }
 ],
 "metadata": {
  "kernelspec": {
   "display_name": "Python 3",
   "language": "python",
   "name": "python3"
  },
  "language_info": {
   "codemirror_mode": {
    "name": "ipython",
    "version": 3
   },
   "file_extension": ".py",
   "mimetype": "text/x-python",
   "name": "python",
   "nbconvert_exporter": "python",
   "pygments_lexer": "ipython3",
   "version": "3.7.4"
  }
 },
 "nbformat": 4,
 "nbformat_minor": 2
}
