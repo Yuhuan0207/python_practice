{
 "cells": [
  {
   "cell_type": "markdown",
   "metadata": {},
   "source": [
    "# Set Types\n",
    "A set object is an **unordered** collection of **distinct** hashable objects.\n",
    "\n",
    "## 1. Construct a Set\n",
    "1. `{element1, element2}`\n",
    "\n",
    "\n",
    "2. use `set()` constructor\n",
    "```\n",
    "class set([iterable])\n",
    "class frozenset([iterable])\n",
    "```\n"
   ]
  },
  {
   "cell_type": "code",
   "execution_count": 1,
   "metadata": {},
   "outputs": [
    {
     "name": "stdout",
     "output_type": "stream",
     "text": [
      "{'foo', 'baz', 'bar', 'qux'}\n",
      "{'b', 'c', 'a', 'd'}\n"
     ]
    }
   ],
   "source": [
    "s = set(['foo', 'bar', 'baz', 'foo', 'qux'])\n",
    "print(s)\n",
    "s = 'abcd'\n",
    "print(set(s))"
   ]
  },
  {
   "cell_type": "markdown",
   "metadata": {},
   "source": [
    "\n",
    "## 2. Modify a Set (not for `frozenset`)\n",
    "- update set\n",
    "    - `update(*others)` or `set |= other | ...`\n",
    "        Update the set, adding elements from all others.\n",
    "\n",
    "\n",
    "    - `intersection_update(*others)` or `set &= other & ...`\n",
    "Update the set, keeping only elements found in it and all others.\n",
    "\n",
    "difference_update(*others)\n",
    "set -= other | ...\n",
    "Update the set, removing elements found in others.\n",
    "\n",
    "symmetric_difference_update(other)\n",
    "set ^= other\n",
    "Update the set, keeping only elements found in either set, but not in both.\n",
    "\n",
    "add(elem)\n",
    "Add element elem to the set.\n",
    "\n",
    "remove(elem)\n",
    "Remove element elem from the set. Raises KeyError if elem is not contained in the set.\n",
    "\n",
    "discard(elem)\n",
    "Remove element elem from the set if it is present.\n",
    "\n",
    "pop()\n",
    "Remove and return an arbitrary element from the set. Raises KeyError if the set is empty.\n",
    "\n",
    "clear()\n",
    "Remove all elements from the set.\n",
    "\n",
    "\n",
    "\n",
    "\n",
    "## 3. Operations (both `set` and `frozenset`)\n",
    "- `len(s)`: number of elements in set\n",
    "\n",
    "\n",
    "- `s.isdisjoint(s2)`: Return True if the set has no elements in common with other. Sets are disjoint if and only if their intersection is the empty set.\n",
    "\n",
    "\n",
    "- subset\n",
    "    - `issubset(other)`\n",
    "    - `set <= other`\n",
    "        Test whether every element in the set is in other.\n",
    "\n",
    "    - `set < other`\n",
    "        Test whether the set is a proper subset of other, that is, set <= other and set != other.\n",
    "\n",
    "\n",
    "- superset\n",
    "    - `issuperset(other)`\n",
    "\n",
    "    - `set >= other`\n",
    "        Test whether every element in other is in the set.\n",
    "\n",
    "    - `set > other`\n",
    "        Test whether the set is a proper superset of other, that is, set >= other and set != other.\n",
    "\n",
    "\n",
    "- union\n",
    "    - `union(*others)`\n",
    "    - `set | other | ...`\n",
    "        Return a new set with elements from the set and all others.\n",
    "\n",
    "- intersection\n",
    "    - `intersection(*others)`\n",
    "    - `set & other & ...`\n",
    "        Return a new set with elements common to the set and all others.\n",
    "\n",
    "- difference\n",
    "    - `difference(*others)`\n",
    "    - `set - other - ...`\n",
    "        Return a new set with elements in the set that are not in the others.\n",
    "\n",
    "    - `symmetric_difference(other)`\n",
    "    - `set ^ other`\n",
    "        Return a new set with elements in either the set or other but not both.\n",
    "\n",
    "\n",
    "\n",
    "## 4. Frozen Set\n",
    "\n",
    "\n",
    "\n",
    "\n",
    "## Reference\n",
    "- [Sets in Python](https://realpython.com/python-sets/)\n"
   ]
  },
  {
   "cell_type": "code",
   "execution_count": null,
   "metadata": {},
   "outputs": [],
   "source": []
  }
 ],
 "metadata": {
  "kernelspec": {
   "display_name": "Python 3",
   "language": "python",
   "name": "python3"
  },
  "language_info": {
   "codemirror_mode": {
    "name": "ipython",
    "version": 3
   },
   "file_extension": ".py",
   "mimetype": "text/x-python",
   "name": "python",
   "nbconvert_exporter": "python",
   "pygments_lexer": "ipython3",
   "version": "3.7.4"
  }
 },
 "nbformat": 4,
 "nbformat_minor": 2
}
