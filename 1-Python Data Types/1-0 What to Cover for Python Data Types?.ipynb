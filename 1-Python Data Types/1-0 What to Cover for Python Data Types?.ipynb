{
 "cells": [
  {
   "cell_type": "markdown",
   "metadata": {},
   "source": [
    "# Why Data Types?\n",
    "\n",
    "Understanding Python is the prerequisite of any python implementation. \n",
    "\n",
    "## Note Template\n",
    "- Data type implementation (in C)\n",
    "- Data type anatomy (big O) (Note: different from abstract data structures, this part is related to how the data type was implemented)\n",
    "- Common functions\n",
    "- Cast/Transform to other data types\n",
    "- Open topics(Interesting but not discussed in the current note)\n",
    "\n",
    "\n",
    "## References\n",
    "- [Python - Built-in Types](https://docs.python.org/3/library/stdtypes.html#)"
   ]
  },
  {
   "cell_type": "code",
   "execution_count": null,
   "metadata": {},
   "outputs": [],
   "source": []
  },
  {
   "cell_type": "code",
   "execution_count": null,
   "metadata": {},
   "outputs": [],
   "source": []
  }
 ],
 "metadata": {
  "kernelspec": {
   "display_name": "Python 3",
   "language": "python",
   "name": "python3"
  },
  "language_info": {
   "codemirror_mode": {
    "name": "ipython",
    "version": 3
   },
   "file_extension": ".py",
   "mimetype": "text/x-python",
   "name": "python",
   "nbconvert_exporter": "python",
   "pygments_lexer": "ipython3",
   "version": "3.7.4"
  }
 },
 "nbformat": 4,
 "nbformat_minor": 2
}
