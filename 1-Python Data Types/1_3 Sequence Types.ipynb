{
 "cells": [
  {
   "cell_type": "markdown",
   "metadata": {},
   "source": [
    "# Sequence Types\n",
    "Three [basic sequence types](https://docs.python.org/3/library/stdtypes.html#sequence-types-list-tuple-range): **lists**, **tuples**, and **range** objects, plus [textual sequence type - string](https://docs.python.org/3/library/stdtypes.html#text-sequence-type-str).\n",
    "\n",
    "## 1. Introduction & Comparison\n",
    "In Python, sequence is the generic term for an ordered set.\n",
    "\n",
    "| Sequence | Example         | Immutable? |\n",
    "|----------|-----------------|------------|\n",
    "| list     | a = [1, 2, 3]   | Mutable    |\n",
    "| tuple    | b = (1, 2, 3)   | Immutable  |\n",
    "| range    | c = range(0,10) | Immutable  |\n",
    "| str      | s = 'hello'     | Immutable  |\n",
    "\n",
    "\n",
    "## 2. Sequence Operations\n",
    "\n",
    "### 2.1 Common Sequence Operations\n",
    "(Following operations list as descending order)\n",
    "\n",
    "1. ***`x (not)in s` - If an item in `s` equals `x` --> `True`***\n",
    "    - general case: only for simple containment testing\n",
    "    - subsequence testing: str, bytes and bytearray"
   ]
  },
  {
   "cell_type": "code",
   "execution_count": 3,
   "metadata": {},
   "outputs": [
    {
     "data": {
      "text/plain": [
       "True"
      ]
     },
     "execution_count": 3,
     "metadata": {},
     "output_type": "execute_result"
    }
   ],
   "source": [
    "# Example\n",
    "arr = ['a', 'b', 'c']\n",
    "'c' in arr"
   ]
  },
  {
   "cell_type": "markdown",
   "metadata": {},
   "source": [
    "2. ***`x + s` or `x * n` - sequence concatenation***\n",
    "    - `n < 0` --> same as `n = 0`: lead to empty sequence same as `x` (Example 1)\n",
    "    - `x * n` --> items got referenced multiple times (Example 2)\n",
    "    - some sequence type don't support concatenation (eg. `range` since the items have to follow certain pattern)\n",
    "    - concatenating immutable sequences (TODO: [note 6](https://docs.python.org/3/library/stdtypes.html#common-sequence-operations))"
   ]
  },
  {
   "cell_type": "code",
   "execution_count": 11,
   "metadata": {},
   "outputs": [
    {
     "name": "stdout",
     "output_type": "stream",
     "text": [
      "n = 0: \n"
     ]
    },
    {
     "data": {
      "text/plain": [
       "''"
      ]
     },
     "execution_count": 11,
     "metadata": {},
     "output_type": "execute_result"
    }
   ],
   "source": [
    "# Example 1: n <=0 \n",
    "print('n = 0: ')\n",
    "s = 'test'\n",
    "s * 0\n",
    "s * (-1)"
   ]
  },
  {
   "cell_type": "code",
   "execution_count": 27,
   "metadata": {},
   "outputs": [
    {
     "name": "stdout",
     "output_type": "stream",
     "text": [
      "===array referenced 3 times===\n",
      "[[], [], []]\n",
      "[[6], [6], [6]]\n",
      "===3 empty arrays are created===\n",
      "[[], [], []]\n",
      "[[7], [], []]\n"
     ]
    }
   ],
   "source": [
    "# Example 2: `x * n` is referencing the object multiple times\n",
    "print('===array referenced 3 times===')\n",
    "new_list = [[]] * 3\n",
    "print(new_list)\n",
    "new_list[0].append(6)\n",
    "print(new_list)\n",
    "\n",
    "print('===3 empty arrays are created===')\n",
    "\n",
    "lists = [[] for i in range(3)]\n",
    "print(lists)\n",
    "lists[0].append(7)\n",
    "print(lists)"
   ]
  },
  {
   "cell_type": "markdown",
   "metadata": {},
   "source": [
    "3. ***`s[i]` & `s[i:j]` & `s[i:j:k]` -- slicing with index***\n",
    "    - `i` default is 0, `j` default is `len(s)`\n",
    "    - if `j - i > len(s)`, default is `len(s)`; if `i > j`, empty slicing\n",
    "    - math relationship between `i, j, k` (TODO: [note 5](https://docs.python.org/3/library/stdtypes.html#common-sequence-operations))\n",
    "\n",
    "4. Other operations\n",
    "    - `len(s)`:\n",
    "    - `min(s)` & `max(s)`: smallest/largest item of `s`\n",
    "    - `s.index(x[, i[, j]])`: index of the first occurrence of x in s (at or after index i and before index j)\n",
    "    - `s.count(x)`: total number of occurrences of x in s"
   ]
  },
  {
   "cell_type": "markdown",
   "metadata": {},
   "source": [
    "### 2.2 Immutable Sequence Operations\n",
    "\n",
    "(TODO [Immutable Sequence Types](https://docs.python.org/3/library/stdtypes.html#immutable-sequence-types))\n",
    "\n",
    "\n",
    "### 2.3 Mutable Sequence Operations\n",
    "- Insert / Append / Concatenate \n",
    "    - `s.append(x)` --> appends x to the end of the sequence (same as `s[len(s):len(s)] = [x]`)\n",
    "    - `s.extend(t) or s += t` --> extends s with the contents of t (for the most part the same as `s[len(s):len(s)] = t)`\n",
    "    - `s *= n`\n",
    "    - `s.insert(i, x)` --> inserts x into s at the index given by i (same as `s[i:i] = [x]`)\n",
    "\n",
    "\n",
    "- Replace\n",
    "    - `s[i] = x` --> item i of s is replaced by x\n",
    "    - `s[i: j: k] = t` --> slice of s from i to j is replaced by the contents of the iterable t\n",
    "\n",
    "\n",
    "- Copy\n",
    "    - `s.copy()` --> creates a shallow copy of s (same as `s[:]`)\n",
    "    Reference: [shallow copy vs. deep copy](https://realpython.com/copying-python-objects/)\n",
    "\n",
    "- Delete\n",
    "    - `del s[i:j:k]` --> delete elements in the sequence (same as `s[i:j:k] = []`)\n",
    "    - `s.clear()` --> removes all items from s (same as `del s[:]`)\n",
    "    - `s.remove(x)` --> remove the first item from s where `s[i]` is equal to `x` (raises ValueError when x is not found)\n",
    "\n",
    "\n",
    "- Use as Stack/Queue\n",
    "    - `s.pop([i])` --> retrieves the item at `i` and also removes it from `s`\n",
    "    - `s.reverse()` --> reverses the items of `s` in place\n",
    "\n"
   ]
  },
  {
   "cell_type": "code",
   "execution_count": 57,
   "metadata": {},
   "outputs": [
    {
     "name": "stdout",
     "output_type": "stream",
     "text": [
      "\n",
      "+++++Append/Insert/Concatenate++++++\n",
      "\n",
      "[1, 2, 3, 4, 5, 6, 7, 8, 9]\n",
      "=====append======\n",
      "[1, 2, 3, 4, 5, 6, 7, 8, 9, 0]\n",
      "[1, 2, 3, 4, 5, 6, 7, 8, 9, 0, 'a', 'b', 'a', 'c']\n",
      "[1, 2, 3, 4, 5, 6, 7, 8, 9, 0, 'a', 'b', 'a', 'c', 'a', 'b', 'a', 'c']\n",
      "[1, 2, 3, 4, 5, 6, 7, 8, 9, 1, 2, 3, 4, 5, 6, 7, 8, 9]\n",
      "\n",
      "+++++Replace++++++\n",
      "\n",
      "=====replace single element======\n",
      "[1, 2, 0, 4, 5, 6, 7, 8, 9]\n",
      "=====replace multiple element======\n",
      "[1, 2, 0, 0, 0, 6, 7, 8, 9]\n",
      "=====replace multiple element with steps======\n",
      "[1, 2, 1, 0, 1, 6, 7, 8, 9]\n",
      "\n",
      "+++++Delete++++++\n",
      "\n",
      "=====delete with slicing======\n",
      "[1, 2, 6, 7, 8, 9]\n",
      "=====delete with remove()======\n",
      "[1, 2, 6, 7, 8]\n",
      "=====delete with del======\n",
      "[1, 2, 7, 8]\n",
      "\n",
      "+++++Append/Insert/Concatenate++++++\n",
      "\n",
      "pop:4\n",
      "[1, 2, 3]\n",
      "reverse: \n",
      "[3, 2, 1]\n"
     ]
    }
   ],
   "source": [
    "# Append / Insert / Concatenate Examples\n",
    "print('\\n+++++Append/Insert/Concatenate++++++\\n')\n",
    "s = [1,2,3,4,5,6,7,8,9]\n",
    "print(s)\n",
    "\n",
    "print('=====append======')\n",
    "## 1.\n",
    "s.append(0)\n",
    "print(s)\n",
    "\n",
    "## 2.\n",
    "s += test\n",
    "print(s)\n",
    "\n",
    "## 3.\n",
    "test = ['a','b','a','c']\n",
    "s.extend(test)\n",
    "print(s)\n",
    "\n",
    "## 4.\n",
    "s = [1,2,3,4,5,6,7,8,9]\n",
    "s *= 2\n",
    "print(s)\n",
    "\n",
    "\n",
    "## Replace Examples\n",
    "print('\\n+++++Replace++++++\\n')\n",
    "a = [1,2,3,4,5,6,7,8,9]\n",
    "\n",
    "print('=====replace single element======')\n",
    "a[2] = 0\n",
    "print(a)\n",
    "\n",
    "print('=====replace multiple element======')\n",
    "a[2:5] = [0,0,0]\n",
    "print(a)\n",
    "\n",
    "print('=====replace multiple element with steps======')\n",
    "a[2:6:2] = [1,1]\n",
    "print(a)\n",
    "\n",
    "\n",
    "## Delete Examples\n",
    "print('\\n+++++Delete++++++\\n')\n",
    "print('=====delete with slicing======')\n",
    "a[2:5] = []\n",
    "print(a)\n",
    "\n",
    "print('=====delete with remove()======')\n",
    "a.remove(9)\n",
    "print(a)\n",
    "\n",
    "\n",
    "print('=====delete with del======')\n",
    "del a[2:3]\n",
    "print(a)\n",
    "\n",
    "print('\\n+++++Append/Insert/Concatenate++++++\\n')\n",
    "l = [1,2,3,4]\n",
    "print('pop:' + str(l.pop()))\n",
    "print(l)\n",
    "\n",
    "print('reverse: ')\n",
    "l.reverse()\n",
    "print(l)"
   ]
  },
  {
   "cell_type": "markdown",
   "metadata": {},
   "source": [
    "## 3. Sequence Specific Notes\n",
    "### 3.1 List \n",
    "- `class list([iterable])` \n",
    "- Construct a list: \n",
    "    - Using square brackets, separating items with commas: `[a], [a, b, c]` \n",
    "    - Using a list comprehension: `[x for x in iterable]` \n",
    "    - Using the type constructor: `list() or list(iterable)` \n",
    "- `sort(*, key=None, reverse=False)` --> default ascending order, in place\n"
   ]
  },
  {
   "cell_type": "code",
   "execution_count": 70,
   "metadata": {},
   "outputs": [
    {
     "name": "stdout",
     "output_type": "stream",
     "text": [
      "default sort: [1, 3, 4, 5]\n",
      "reverse sort: [5, 4, 3, 1]\n"
     ]
    }
   ],
   "source": [
    "a = [1,3,5,4]\n",
    "\n",
    "a.sort()\n",
    "print('default sort: ' + str(a))\n",
    "a.sort(reverse=True)\n",
    "print('reverse sort: ' + str(a))"
   ]
  },
  {
   "cell_type": "markdown",
   "metadata": {},
   "source": [
    "### 3.2 Tuples\n",
    "- `class tuple([iterable])`\n",
    "- Construct a tuple:\n",
    "    - Using a pair of parentheses to denote the empty tuple: `()`\n",
    "    - Using a trailing comma for a singleton tuple: `a,` or `(a,)`\n",
    "    - Separating items with commas: `a, b, c` or `(a, b, c)`\n",
    "    - Using the tuple() built-in: `tuple()` or `tuple(iterable)`\n"
   ]
  },
  {
   "cell_type": "code",
   "execution_count": 74,
   "metadata": {},
   "outputs": [
    {
     "name": "stdout",
     "output_type": "stream",
     "text": [
      "('a',)\n",
      "(1, 2, 3)\n"
     ]
    }
   ],
   "source": [
    "## Construction Example\n",
    "a = 'a',\n",
    "print(a)\n",
    "\n",
    "t = 1,2,3\n",
    "print(t)\n"
   ]
  },
  {
   "cell_type": "markdown",
   "metadata": {},
   "source": [
    "### 3.3 [Range](https://docs.python.org/3/library/stdtypes.html#ranges)\n",
    "- `class range(stop)` or `class range(start, stop[, step])`\n",
    "- Construct a range: argument must be int, \n",
    "    - start: default as 0\n",
    "    - step: default as 1"
   ]
  },
  {
   "cell_type": "code",
   "execution_count": 81,
   "metadata": {},
   "outputs": [
    {
     "name": "stdout",
     "output_type": "stream",
     "text": [
      "range(0, 10)\n",
      "[0, 1, 2, 3, 4, 5, 6, 7, 8, 9]\n",
      "[0, 3, 6, 9]\n",
      "[0, -1, -2, -3, -4, -5, -6, -7, -8, -9]\n",
      "[]\n",
      "[]\n"
     ]
    }
   ],
   "source": [
    "a = range(10)\n",
    "print(a)\n",
    "\n",
    "# construct a range\n",
    "print(list(range(10)))\n",
    "print(list(range(0,10,3)))\n",
    "print(list(range(0, -10, -1)))\n",
    "print(list(range(0)))\n",
    "print(list(range(1,0)))"
   ]
  },
  {
   "cell_type": "markdown",
   "metadata": {},
   "source": [
    "### 3.4 [String](https://docs.python.org/3/library/stdtypes.html#text-sequence-type-str)\n",
    "- `class str(object='')` or `class str(object=b'', encoding='utf-8', errors='strict')`\n",
    "- Construct a string\n",
    "    - Single quotes: `'allows embedded \"double\" quotes`\n",
    "    - Double quotes: `\"allows embedded 'single' quotes\"`\n",
    "    - Triple quoted: `'''Three single quotes''', \"\"\"Three double quotes\"\"\"`\n",
    "- [String Methods](https://docs.python.org/3/library/stdtypes.html#string-methods) (TODO)\n",
    "- [`printf`-style formatting string](https://docs.python.org/3/library/stdtypes.html#printf-style-string-formatting) (TODO)"
   ]
  },
  {
   "cell_type": "code",
   "execution_count": null,
   "metadata": {},
   "outputs": [],
   "source": []
  },
  {
   "cell_type": "code",
   "execution_count": null,
   "metadata": {},
   "outputs": [],
   "source": []
  }
 ],
 "metadata": {
  "kernelspec": {
   "display_name": "Python 3",
   "language": "python",
   "name": "python3"
  },
  "language_info": {
   "codemirror_mode": {
    "name": "ipython",
    "version": 3
   },
   "file_extension": ".py",
   "mimetype": "text/x-python",
   "name": "python",
   "nbconvert_exporter": "python",
   "pygments_lexer": "ipython3",
   "version": "3.7.4"
  }
 },
 "nbformat": 4,
 "nbformat_minor": 2
}
