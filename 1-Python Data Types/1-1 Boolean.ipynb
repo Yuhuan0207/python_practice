{
 "cells": [
  {
   "cell_type": "markdown",
   "metadata": {},
   "source": [
    "# Boolean\n",
    "\n",
    "## Boolean Data Type and How to Define\n",
    "Boolean data type is either `True` or `False` defined by the two keywords."
   ]
  },
  {
   "cell_type": "code",
   "execution_count": 5,
   "metadata": {},
   "outputs": [
    {
     "name": "stdout",
     "output_type": "stream",
     "text": [
      "True\n",
      "<class 'bool'>\n",
      "False\n",
      "<class 'bool'>\n"
     ]
    }
   ],
   "source": [
    "a = True\n",
    "b = False\n",
    "print(a)\n",
    "print(type(a))\n",
    "print(b)\n",
    "print(type(b))"
   ]
  },
  {
   "cell_type": "markdown",
   "metadata": {},
   "source": [
    "## Truth Value Testing\n",
    "Any object can be tested for truth value used for `for`, `while` loop or other operations.\n",
    "\n",
    "- **`True` by default**\n",
    "- **`False` when**:\n",
    "  - its class defines either a __bool__() method that returns False \n",
    "  - or a __len__() method that returns zero\n",
    "  - Examples: \n",
    "    - constants defined to be false: `None` and `False`.\n",
    "    - zero of any numeric type: `0`, `0.0`, `0j`, `Decimal(0)`, `Fraction(0, 1)`\n",
    "    - empty sequences and collections: `''`, `()`, `[]`, `{}`, `set()`, `range(0)`\n",
    "    **TODO**:application examples\n",
    "  "
   ]
  },
  {
   "cell_type": "code",
   "execution_count": 17,
   "metadata": {},
   "outputs": [
    {
     "name": "stdout",
     "output_type": "stream",
     "text": [
      "a: True\n",
      "b: False\n",
      "c: True\n"
     ]
    }
   ],
   "source": [
    "a = 1\n",
    "b = 0\n",
    "c = -5.2\n",
    "print('a: ' + str(bool(a)))\n",
    "print('b: ' + str(bool(b)))\n",
    "print('c: ' + str(bool(c)))"
   ]
  },
  {
   "cell_type": "code",
   "execution_count": null,
   "metadata": {},
   "outputs": [],
   "source": []
  },
  {
   "cell_type": "markdown",
   "metadata": {},
   "source": [
    "## Boolean Operations\n",
    "| Operation | Result                               | Note |   |   |\n",
    "|-----------|--------------------------------------|------|---|---|\n",
    "| `x or y`  |                                      |      |   |   |\n",
    "| `x and y` |                                      |      |   |   |\n",
    "| `not x`   | if x is false, then True, else False | (3)  |   |   |\n",
    "\n",
    "Note 3. `not` has a lower priority than non-Boolean operators, so `not a == b` is interpreted as `not (a == b)`, and `a == not b` is a syntax error."
   ]
  },
  {
   "cell_type": "code",
   "execution_count": null,
   "metadata": {},
   "outputs": [],
   "source": []
  },
  {
   "cell_type": "markdown",
   "metadata": {},
   "source": [
    "## Comparison\n",
    "| Operator | Meaning                 |   |   |   |\n",
    "|----------|-------------------------|---|---|---|\n",
    "| ==       | equal                   |   |   |   |\n",
    "| !=       | not equal               |   |   |   |\n",
    "| is       | object identity         |   |   |   |\n",
    "| is not   | negated object identity |   |   |   |\n",
    "\n",
    "**TODO**: What's the difference between `==` and `is`?"
   ]
  },
  {
   "cell_type": "code",
   "execution_count": 13,
   "metadata": {},
   "outputs": [
    {
     "name": "stdout",
     "output_type": "stream",
     "text": [
      "True\n"
     ]
    }
   ],
   "source": [
    "a = 1\n",
    "b = 1\n",
    "op1 = a == b\n",
    "op2 = a is b\n",
    "print(a is b)\n",
    "# print('Result for ==:' + str(op1))\n",
    "# print('Result for `is`:' + str(op2))"
   ]
  },
  {
   "cell_type": "markdown",
   "metadata": {},
   "source": [
    "## References:\n",
    "- [Python Doc](https://docs.python.org/3/library/stdtypes.html#truth-value-testing)\n",
    "- [Problem Solving with Python](https://problemsolvingwithpython.com/04-Data-Types-and-Variables/04.02-Boolean-Data-Type/)"
   ]
  },
  {
   "cell_type": "code",
   "execution_count": null,
   "metadata": {},
   "outputs": [],
   "source": []
  }
 ],
 "metadata": {
  "kernelspec": {
   "display_name": "Python 3",
   "language": "python",
   "name": "python3"
  },
  "language_info": {
   "codemirror_mode": {
    "name": "ipython",
    "version": 3
   },
   "file_extension": ".py",
   "mimetype": "text/x-python",
   "name": "python",
   "nbconvert_exporter": "python",
   "pygments_lexer": "ipython3",
   "version": "3.7.4"
  }
 },
 "nbformat": 4,
 "nbformat_minor": 2
}
