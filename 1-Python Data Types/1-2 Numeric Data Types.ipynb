{
 "cells": [
  {
   "cell_type": "markdown",
   "metadata": {},
   "source": [
    "# Numeric Data Types\n",
    "There are three distinct numeric types: **integers**, **floating point numbers**, and **,complex numbers**.([Python official doc](https://docs.python.org/3/library/stdtypes.html#numeric-types-int-float-complex))\n",
    "\n",
    "\n",
    "## Introduction & Comparison\n",
    "| Data Type | Example         | Precision           | Implementation                | Note |\n",
    "|-----------|-----------------|---------------------|-------------------------------|------|\n",
    "| int       | `a = 1`         | Unlimited precision |                               | (1)  |\n",
    "| float     | `b = 23.4`      |                     | Implemented using double in C | (2)  |\n",
    "| complex   | `comp = 4 + 2j` |                     |                               | (3)  |\n",
    "\n",
    "\n",
    "**Note:**\n",
    "- (1) Booleans are a subtype of integers. (Per [Python doc](https://docs.python.org/3/library/stdtypes.html#numeric-types-int-float-complex) - TODO)\n",
    "- (2) Limitation of float precision - [15. Floating Point Arithmetic: Issues and Limitations](https://docs.python.org/3/tutorial/floatingpoint.html)\n",
    "Run following lines to get information about the precision and internal representation of floating point numbers for the machine."
   ]
  },
  {
   "cell_type": "code",
   "execution_count": 2,
   "metadata": {},
   "outputs": [
    {
     "name": "stdout",
     "output_type": "stream",
     "text": [
      "sys.float_info(max=1.7976931348623157e+308, max_exp=1024, max_10_exp=308, min=2.2250738585072014e-308, min_exp=-1021, min_10_exp=-307, dig=15, mant_dig=53, epsilon=2.220446049250313e-16, radix=2, rounds=1)\n"
     ]
    }
   ],
   "source": [
    "import sys\n",
    "print(sys.float_info)"
   ]
  },
  {
   "cell_type": "markdown",
   "metadata": {},
   "source": [
    "\n",
    "## Operators & Operations\n",
    "### Arithmetic Operations\n",
    "- `x // y`: floored quotient of x and y, rounded towards minus infinity.\n",
    "    - `5 // 2 = 2`\n",
    "    - `1 // 2 = 0`\n",
    "    - `(-1)//2 = -1`\n",
    "    - `(-1)//(-2) = 0`\n",
    "\n",
    "\n",
    "- `x % y`: remainder of x / y\n",
    "    - not for complex, need to cast to float using `abs()` if appropriate\n",
    "\n",
    "\n",
    "- `pow(x, y)` & `x ** y`: x to the power y\n",
    "    - Python defines `pow(0, 0) = 1` and `0 ** 0 = 1` as other programming languages.\n",
    "\n",
    "\n",
    "- `abs(x)`: absolute value or magnitude of x\n",
    "\n",
    "\n",
    "- `divmod(x, y)`: the pair (x // y, x % y)\n",
    "    - `divmod(5,2)` --> `(2, 1)`\n",
    "\n",
    "\n",
    "- `int(x)`: cast x to integer\n",
    "- `float(x)`: cast x to float\n",
    "- `complex(re, im)`: a complex number with real part `re`, imaginary part `im`. `im` defaults to zero.\n",
    "\n",
    "\n",
    "### Precision Operations\n",
    "\n",
    "- `math.trunc(x)`: x truncated to Integral\n",
    "\n",
    "- `round(x[, n])`: x rounded to n digits, rounding half to even. If n is omitted, it defaults to 0.\n",
    "\n",
    "- `math.floor(x)`: the greatest Integral <= x\n",
    "\n",
    "- `math.ceil(x)`: the least Integral >= x\n",
    "\n",
    "\n",
    "### Bitwise Operations\n",
    "- `x | y`: bitwise or of x and y\n",
    "\n",
    "- `x ^ y`: bitwise exclusive or of x and y\n",
    "\n",
    "- `x & y`: bitwise and of x and y\n",
    "\n",
    "- `x << n`: x shifted left by n bits\n",
    "\n",
    "- `x >> n`: x shifted right by n bits\n",
    "\n",
    "- `~x`: the bits of x inverted\n"
   ]
  },
  {
   "cell_type": "code",
   "execution_count": null,
   "metadata": {},
   "outputs": [],
   "source": []
  },
  {
   "cell_type": "markdown",
   "metadata": {},
   "source": [
    "## Open topics\n",
    "- [Additional Methods on Integer Types](https://docs.python.org/3/library/stdtypes.html#additional-methods-on-integer-types)\n",
    "- [Additional Methods on Float](https://docs.python.org/3/library/stdtypes.html#additional-methods-on-float)\n",
    "- [Hashing of numeric types](https://docs.python.org/3/library/stdtypes.html#hashing-of-numeric-types)"
   ]
  },
  {
   "cell_type": "code",
   "execution_count": null,
   "metadata": {},
   "outputs": [],
   "source": []
  }
 ],
 "metadata": {
  "kernelspec": {
   "display_name": "Python 3",
   "language": "python",
   "name": "python3"
  },
  "language_info": {
   "codemirror_mode": {
    "name": "ipython",
    "version": 3
   },
   "file_extension": ".py",
   "mimetype": "text/x-python",
   "name": "python",
   "nbconvert_exporter": "python",
   "pygments_lexer": "ipython3",
   "version": "3.7.4"
  }
 },
 "nbformat": 4,
 "nbformat_minor": 2
}
