{
 "cells": [
  {
   "cell_type": "markdown",
   "metadata": {},
   "source": [
    "# Mapping Type - Dictionary\n",
    "- A mapping object maps hashable values to arbitrary objects. \n",
    "- One standard mapping type - the dictionary.\n",
    "\n",
    "--------\n",
    "## 1. Constructing a Dictionary\n",
    "### 1.1 Ways to Construct a Dict\n",
    "- 1. `{` to construct key-value pair with `:` separate key and values:\n",
    "```\n",
    "a = {'jack': 4098, 'sjoerd': 4127}\n",
    "```\n",
    "\n",
    "\n",
    "- 2. Use `dict()` constructor\n",
    "```\n",
    "class dict(**kwarg)\n",
    "class dict(mapping, **kwarg)\n",
    "class dict(iterable, **kwarg)\n",
    "```\n",
    "    👇\n",
    "```\n",
    "a = dict(one=1, two=2, three=3)\n",
    "c = dict(zip(['one', 'two', 'three'], [1, 2, 3]))\n",
    "d = dict([('two', 2), ('one', 1), ('three', 3)])\n",
    "e = dict({'three': 3, 'one': 1, 'two': 2})\n",
    "```"
   ]
  },
  {
   "cell_type": "code",
   "execution_count": 21,
   "metadata": {},
   "outputs": [
    {
     "name": "stdout",
     "output_type": "stream",
     "text": [
      "True\n",
      "\n",
      "----------------\n",
      "\n",
      "{2: 4, 4: 16, 6: 36}\n"
     ]
    }
   ],
   "source": [
    "a = dict(one=1, two=2, three=3)\n",
    "b = {'one': 1, 'two': 2, 'three': 3}\n",
    "c = dict(zip(['one', 'two', 'three'], [1, 2, 3]))\n",
    "d = dict([('two', 2), ('one', 1), ('three', 3)])\n",
    "e = dict({'three': 3, 'one': 1, 'two': 2})\n",
    "print(a == b == c == d == e)\n",
    "\n",
    "print(\"\\n----------------\\n\")\n",
    "f = {x: x**2 for x in (2, 4, 6)}\n",
    "print(f)"
   ]
  },
  {
   "cell_type": "markdown",
   "metadata": {},
   "source": [
    "### 1.2 Build dictionary incrementally\n",
    "\n",
    "When key-value pairs are not known before hand and need to construct the dictionary on the fly, build the dictionary incrementally.\n"
   ]
  },
  {
   "cell_type": "code",
   "execution_count": 4,
   "metadata": {},
   "outputs": [
    {
     "name": "stdout",
     "output_type": "stream",
     "text": [
      "<class 'dict'>\n",
      "{'fname': 'Joe', 'lname': 'Fonebone', 'age': 51, 'spouse': 'Edna', 'children': ['Ralph', 'Betty', 'Joey'], 'pets': {'dog': 'Fido', 'cat': 'Sox'}}\n"
     ]
    }
   ],
   "source": [
    "person = {}\n",
    "print(type(person))\n",
    "\n",
    "person['fname'] = 'Joe'\n",
    "person['lname'] = 'Fonebone'\n",
    "person['age'] = 51\n",
    "person['spouse'] = 'Edna'\n",
    "person['children'] = ['Ralph', 'Betty', 'Joey']\n",
    "person['pets'] = {'dog': 'Fido', 'cat': 'Sox'}\n",
    "\n",
    "print(person)"
   ]
  },
  {
   "cell_type": "markdown",
   "metadata": {},
   "source": [
    "### 1.3 Nested dictionary\n",
    "\n",
    "If the value of a key is dictionary, the current dictionary is called a **nested dictionary**."
   ]
  },
  {
   "cell_type": "code",
   "execution_count": 6,
   "metadata": {},
   "outputs": [],
   "source": [
    "myfamily = {\n",
    "  \"child1\" : {\n",
    "    \"name\" : \"Emil\",\n",
    "    \"year\" : 2004\n",
    "  },\n",
    "  \"child2\" : {\n",
    "    \"name\" : \"Tobias\",\n",
    "    \"year\" : 2007\n",
    "  },\n",
    "  \"child3\" : {\n",
    "    \"name\" : \"Linus\",\n",
    "    \"year\" : 2011\n",
    "  }\n",
    "}"
   ]
  },
  {
   "cell_type": "markdown",
   "metadata": {},
   "source": [
    "### 1.4 Build dict with default value\n"
   ]
  },
  {
   "cell_type": "markdown",
   "metadata": {},
   "source": [
    "--------------\n",
    "\n",
    "## 2. Access Dictionary Values"
   ]
  },
  {
   "cell_type": "code",
   "execution_count": 7,
   "metadata": {},
   "outputs": [],
   "source": [
    "# Example dict\n",
    "thisdict = {\n",
    "  \"brand\": \"Ford\",\n",
    "  \"model\": \"Mustang\",\n",
    "  \"year\": 1964\n",
    "}"
   ]
  },
  {
   "cell_type": "markdown",
   "metadata": {},
   "source": [
    "### 2.1 Check Existance\n",
    "- `a in dict`\n",
    "\n",
    "- `a in dict.keys()/dict.values()`\n"
   ]
  },
  {
   "cell_type": "code",
   "execution_count": 15,
   "metadata": {},
   "outputs": [
    {
     "name": "stdout",
     "output_type": "stream",
     "text": [
      "a: Nah..\n",
      "brand: found in the dict\n",
      "Mustang: Nah..\n"
     ]
    }
   ],
   "source": [
    "test_list = [\"a\", \"brand\", \"Mustang\"]\n",
    "for a in test_list:\n",
    "    if a in thisdict:\n",
    "        print(a + \": found in the dict\")\n",
    "    else:\n",
    "        print(a + \": Nah..\")\n"
   ]
  },
  {
   "cell_type": "code",
   "execution_count": 19,
   "metadata": {},
   "outputs": [
    {
     "name": "stdout",
     "output_type": "stream",
     "text": [
      "dict_keys(['brand', 'model', 'year'])\n",
      "<class 'dict_keys'>\n",
      "=============================\n",
      "a: Nah..\n",
      "brand: found in the dict\n",
      "Mustang: Nah..\n",
      "\n",
      "\n",
      "-----------------------------\n",
      "\n",
      "\n",
      "dict_values(['Ford', 'Mustang', 1964])\n",
      "<class 'dict_values'>\n",
      "=============================\n",
      "a: Nah..\n",
      "brand: Nah..\n",
      "Mustang: found in the dict\n"
     ]
    }
   ],
   "source": [
    "print(thisdict.keys())\n",
    "print(type(thisdict.keys()))\n",
    "print(\"=============================\")\n",
    "\n",
    "\n",
    "for a in test_list:\n",
    "    if a in thisdict.keys():\n",
    "        print(a + \": found in the dict\")\n",
    "    else:\n",
    "        print(a + \": Nah..\")\n",
    "\n",
    "print(\"\\n\\n-----------------------------\\n\\n\")\n",
    "\n",
    "print(thisdict.values())\n",
    "print(type(thisdict.values()))\n",
    "print(\"=============================\")\n",
    "\n",
    "\n",
    "for a in test_list:\n",
    "    if a in thisdict.values():\n",
    "        print(a + \": found in the dict\")\n",
    "    else:\n",
    "        print(a + \": Nah..\")"
   ]
  },
  {
   "cell_type": "markdown",
   "metadata": {},
   "source": [
    "### 2.2 Access Value \n",
    "- `x = thisdict[$KEY]`\n",
    "- `x = thisdict.get($KEY)`"
   ]
  },
  {
   "cell_type": "code",
   "execution_count": 14,
   "metadata": {},
   "outputs": [
    {
     "name": "stdout",
     "output_type": "stream",
     "text": [
      "Ford\n",
      "================\n",
      "Ford\n"
     ]
    }
   ],
   "source": [
    "print(thisdict[\"brand\"])\n",
    "\n",
    "print(\"================\")\n",
    "\n",
    "print(thisdict.get(\"brand\"))"
   ]
  },
  {
   "cell_type": "markdown",
   "metadata": {},
   "source": [
    "### 2.3 Iteration in a dictionary\n",
    "\n",
    "- Iterate the key-value pair: `for k, v in dict.items()`\n",
    "\n",
    "- Iterate the key: `for k in dict` or `for k in dict.keys()`\n",
    "\n",
    "- Iterate the value: `for v in dict.values()`\n"
   ]
  },
  {
   "cell_type": "code",
   "execution_count": 26,
   "metadata": {},
   "outputs": [
    {
     "name": "stdout",
     "output_type": "stream",
     "text": [
      "gallahad\n",
      "robin\n",
      "\n",
      "-----\n",
      "\n",
      "gallahad\n",
      "robin\n",
      "\n",
      "-----\n",
      "\n",
      "the pure\n",
      "the brave\n",
      "\n",
      "-----\n",
      "\n",
      "gallahad-->>the pure\n",
      "robin-->>the brave\n"
     ]
    }
   ],
   "source": [
    "knights = {'gallahad': 'the pure', 'robin': 'the brave'}\n",
    "\n",
    "##print keys\n",
    "for k in knights:\n",
    "    print(k)\n",
    "\n",
    "print(\"\\n-----\\n\")\n",
    "for k in knights.keys():\n",
    "    print(k)\n",
    "\n",
    "##print values\n",
    "print(\"\\n-----\\n\")\n",
    "for v in knights.values():\n",
    "    print(v)\n",
    "\n",
    "##print k-v pair\n",
    "print(\"\\n-----\\n\")\n",
    "for k, v in knights.items():\n",
    "    print(k + \"-->>\" + v)"
   ]
  },
  {
   "cell_type": "markdown",
   "metadata": {},
   "source": [
    "-----\n",
    "## 3.Operators & Built-in Functions\n",
    "\n",
    "- `list(d)`: return list of keys in dict\n",
    "\n",
    "\n",
    "- `len(d)`: number of items in dict\n",
    "\n",
    "\n",
    "- `d[key]`: get value / `d[key] = value`: update value / `del d[key]`: delete key in dict\n",
    "\n",
    "\n",
    "- `d.clear()`: clear a dict\n",
    "\n",
    "\n",
    "- `d.get(<key>[, <default>])`: get value otherwise return default value\n",
    "\n",
    "\n",
    "- `d.pop(<key>[, <default>])`: remove a key from dict or return default value\n",
    "\n",
    "\n",
    "- `d.popitem()`: removes a random, arbitrary key-value pair from d and returns it as a tuple\n",
    "\n",
    "\n",
    "- `d.setdefault(key[, default])`: return value or insert key & set default value"
   ]
  },
  {
   "cell_type": "code",
   "execution_count": 37,
   "metadata": {},
   "outputs": [
    {
     "name": "stdout",
     "output_type": "stream",
     "text": [
      "---d.clear()---\n",
      "{'a': 10, 'b': 20, 'c': 30}\n",
      "{}\n",
      "\n",
      "----d.get(<key>[, <default>])----\n",
      "10\n",
      "NOT FOUND\n",
      "\n",
      "----d.pop(<key>[, <default>])----\n",
      "{'a': 10, 'b': 20, 'c': 30}\n",
      "10\n",
      "{'b': 20, 'c': 30}\n",
      "NOT FOUND\n",
      "{'b': 20, 'c': 30}\n",
      "\n",
      "----d.popitem()----\n",
      "{'a': 10, 'b': 20, 'c': 30}\n",
      "('c', 30)\n",
      "{'a': 10, 'b': 20}\n",
      "('b', 20)\n",
      "{'a': 10}\n",
      "\n",
      "----d.setdefault(key[, default])----\n",
      "{'a': 10, 'b': 20, 'c': 30}\n",
      "10\n",
      "{'a': 10, 'b': 20, 'c': 30}\n",
      "Yo\n",
      "{'a': 10, 'b': 20, 'c': 30, 'z': 'Yo'}\n"
     ]
    }
   ],
   "source": [
    "# d.clear()\n",
    "print(\"---d.clear()---\")\n",
    "d = {'a': 10, 'b': 20, 'c': 30}\n",
    "print(d)\n",
    "d.clear()\n",
    "print(d)\n",
    "\n",
    "# d.get(<key>[, <default>])\n",
    "print(\"\\n----d.get(<key>[, <default>])----\")\n",
    "d = {'a': 10, 'b': 20, 'c': 30}\n",
    "print(d.get('a', 'NOT FOUND'))\n",
    "print(d.get('Z', 'NOT FOUND'))\n",
    "\n",
    "\n",
    "# d.pop(<key>[, <default>])\n",
    "print(\"\\n----d.pop(<key>[, <default>])----\")\n",
    "d = {'a': 10, 'b': 20, 'c': 30}\n",
    "print(d)\n",
    "print(d.pop('a', 'NOT FOUND'))\n",
    "print(d)\n",
    "print(d.pop('Z', 'NOT FOUND'))\n",
    "print(d)\n",
    "\n",
    "# d.popitem()\n",
    "print(\"\\n----d.popitem()----\")\n",
    "d = {'a': 10, 'b': 20, 'c': 30}\n",
    "print(d)\n",
    "print(d.popitem())\n",
    "print(d)\n",
    "print(d.popitem())\n",
    "print(d)\n",
    "\n",
    "# d.setdefault(key[, default])\n",
    "print(\"\\n----d.setdefault(key[, default])----\")\n",
    "d = {'a': 10, 'b': 20, 'c': 30}\n",
    "print(d)\n",
    "print(d.setdefault('a', 'Yo'))\n",
    "print(d)\n",
    "print(d.setdefault('z', 'Yo'))\n",
    "print(d)"
   ]
  },
  {
   "cell_type": "markdown",
   "metadata": {},
   "source": [
    "\n",
    "\n",
    "\n",
    "## 5. Restrictions\n",
    "- Keys https://realpython.com/python-dicts/#restrictions-on-dictionary-keys\n",
    "- Values https://realpython.com/python-dicts/#restrictions-on-dictionary-values\n",
    "\n",
    "\n",
    "## References\n",
    "- [How to Iterate Through a Dictionary in Python](https://realpython.com/iterate-through-dictionary-python/)\n",
    "- [Dictionaries in Python](https://realpython.com/python-dicts/)"
   ]
  }
 ],
 "metadata": {
  "kernelspec": {
   "display_name": "Python 3",
   "language": "python",
   "name": "python3"
  },
  "language_info": {
   "codemirror_mode": {
    "name": "ipython",
    "version": 3
   },
   "file_extension": ".py",
   "mimetype": "text/x-python",
   "name": "python",
   "nbconvert_exporter": "python",
   "pygments_lexer": "ipython3",
   "version": "3.7.4"
  }
 },
 "nbformat": 4,
 "nbformat_minor": 2
}
