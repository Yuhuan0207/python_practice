{
 "cells": [
  {
   "cell_type": "markdown",
   "metadata": {},
   "source": [
    "# Linear Data Structures\n",
    "\n",
    "## 1. Array / Dynamic Array"
   ]
  },
  {
   "cell_type": "code",
   "execution_count": 4,
   "metadata": {},
   "outputs": [],
   "source": [
    "# instantiate an array that holds 10 integers\n",
    "gasPrices = []"
   ]
  },
  {
   "cell_type": "markdown",
   "metadata": {},
   "source": [
    "## 2. Linked List\n",
    "\n",
    "- `append()`: add to top of stack\n",
    "\n",
    "- `pop()`: remove from top of stack\n",
    "\n",
    "[Python Data Structure - Stack](https://docs.python.org/3/tutorial/datastructures.html#using-lists-as-stacks)"
   ]
  },
  {
   "cell_type": "code",
   "execution_count": 8,
   "metadata": {},
   "outputs": [
    {
     "name": "stdout",
     "output_type": "stream",
     "text": [
      "[1, 2, 3]\n",
      "[1, 2, 3, 8]\n",
      "[1, 2, 3]\n",
      "[1, 2]\n"
     ]
    }
   ],
   "source": [
    "stack = [1,2,3]\n",
    "print(stack)\n",
    "\n",
    "# add to stack\n",
    "stack.append(8)\n",
    "print(stack)\n",
    "\n",
    "# remove from stack\n",
    "stack.pop()\n",
    "print(stack)\n",
    "stack.pop()\n",
    "print(stack)"
   ]
  },
  {
   "cell_type": "markdown",
   "metadata": {},
   "source": [
    "## 3. Queue\n",
    "### 3.1 `list` as queue\n",
    "- Not efficient due to the properties of list (since list use as `stack` is fastest. More detail in ref)\n",
    "\n",
    "\n",
    "### 3.2 `deque`\n",
    "- `append()`: append to queue\n",
    "\n",
    "- `popleft()`: remove from queue\n",
    "\n",
    "\n",
    "**Reference:**\n",
    "- [Python Data Structure - Queue](https://docs.python.org/3/tutorial/datastructures.html#using-lists-as-queues)\n",
    "- [Python Collection - Deque](https://docs.python.org/3/library/collections.html#collections.deque)"
   ]
  },
  {
   "cell_type": "code",
   "execution_count": 12,
   "metadata": {},
   "outputs": [
    {
     "name": "stdout",
     "output_type": "stream",
     "text": [
      "deque(['Katie', 'Grace', 'Mia'])\n",
      "<class 'collections.deque'>\n",
      "None\n",
      "deque(['Katie', 'Grace', 'Mia', 'Nancy'])\n",
      "Katie\n",
      "deque(['Grace', 'Mia', 'Nancy'])\n"
     ]
    }
   ],
   "source": [
    "from collections import deque\n",
    "queue = deque([\"Katie\", \"Grace\", \"Mia\"])\n",
    "\n",
    "# check property of the queue\n",
    "print(queue)\n",
    "print(type(queue))\n",
    "\n",
    "# add new element\n",
    "print(queue.append(\"Nancy\"))\n",
    "print(queue)\n",
    "\n",
    "# remove element\n",
    "print(queue.popleft())\n",
    "print(queue)"
   ]
  },
  {
   "cell_type": "markdown",
   "metadata": {},
   "source": [
    "## Reference\n",
    "https://docs.python.org/3/tutorial/datastructures.html"
   ]
  },
  {
   "cell_type": "code",
   "execution_count": null,
   "metadata": {},
   "outputs": [],
   "source": []
  }
 ],
 "metadata": {
  "kernelspec": {
   "display_name": "Python 3",
   "language": "python",
   "name": "python3"
  },
  "language_info": {
   "codemirror_mode": {
    "name": "ipython",
    "version": 3
   },
   "file_extension": ".py",
   "mimetype": "text/x-python",
   "name": "python",
   "nbconvert_exporter": "python",
   "pygments_lexer": "ipython3",
   "version": "3.7.4"
  }
 },
 "nbformat": 4,
 "nbformat_minor": 2
}
