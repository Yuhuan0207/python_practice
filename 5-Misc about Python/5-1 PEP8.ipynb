{
 "cells": [
  {
   "cell_type": "markdown",
   "metadata": {},
   "source": [
    "# PEP 8\n",
    "Python Enhancement Proposal \\#8 - style guide to format python code ([PEP 8](https://www.python.org/dev/peps/pep-0008/))\n",
    "\n",
    "## Whitespace\n",
    "- Use **space** for indentation, 4 space for each level of syntactically significant indenting.\n",
    "    - set up space indentation for text editor/IDE (TODO)\n",
    "\n",
    "\n",
    "- Every line <= 79 characters\n",
    "    - Format multiple lines of code (TODO): 4 extra space as indentation"
   ]
  },
  {
   "cell_type": "code",
   "execution_count": null,
   "metadata": {},
   "outputs": [],
   "source": [
    "# 1. Aligned with opening delimiter.\n",
    "foo = long_function_name(var_one, var_two,\n",
    "                         var_three, var_four)\n",
    "\n",
    "# 2. Add 4 spaces (an extra level of indentation) to distinguish arguments from the rest.\n",
    "## no argument in first line in this case\n",
    "def long_function_name(\n",
    "        var_one, var_two, var_three,\n",
    "        var_four):\n",
    "    print(var_one)\n",
    "\n",
    "# 3. Hanging indents should add a level.\n",
    "foo = long_function_name(\n",
    "    var_one, var_two,\n",
    "    var_three, var_four)\n",
    "\n",
    "# 4. Constructor: closing bracket with or without indentation\n",
    "my_list = [\n",
    "    1, 2, 3,\n",
    "    4, 5, 6,\n",
    "    ]\n",
    "\n",
    "my_list = [\n",
    "    1, 2, 3,\n",
    "    4, 5, 6,\n",
    "]"
   ]
  },
  {
   "cell_type": "markdown",
   "metadata": {},
   "source": [
    "    - Plugins for line length check ([TODO](https://pylint.org/))\n",
    "\n",
    "\n",
    "- Blank lines\n",
    "    - Functions and classes - separated by 2 blank lines\n",
    "    - Methods in a class - separated by 1 blank line\n",
    "\n",
    "\n",
    "- In functions/expressions\n",
    "    - In dictionary: no space between key and colon, one space between colon and value\n",
    "    - Variable assignment: one space before & after `=`\n",
    "    - Type annotation: no space between variable name and colon\n",
    "\n",
    "\n",
    "## Naming\n",
    "- Functions & attributes: `lowercase_underscore`\n",
    "- Protected instance attributes: `_leading_underscore`\n",
    "- Private instance attributes: `__double_leading_underscore`\n",
    "- Classes (including Exceptions): `CapitalizedWord`\n",
    "- Module-level constant: `ALL_CAPS`\n",
    "- Instance methods in class in classes use `self`, which refers to the objects, as the name of first parameter(TODO)\n",
    "- Class methods should use `cls`, which refers to the class, as the name of first parameter(TODO)\n"
   ]
  },
  {
   "cell_type": "markdown",
   "metadata": {},
   "source": [
    "## Expression & Statement Formatting\n",
    "\n",
    "1. Negation: use inline negation over negation of positive expressions"
   ]
  },
  {
   "cell_type": "code",
   "execution_count": 7,
   "metadata": {},
   "outputs": [
    {
     "name": "stdout",
     "output_type": "stream",
     "text": [
      "yes\n",
      "no\n"
     ]
    }
   ],
   "source": [
    "a = 1\n",
    "b = 2\n",
    "\n",
    "# Yes\n",
    "if a is not b:\n",
    "    print('yes')\n",
    "\n",
    "# No\n",
    "if not a is b:\n",
    "    print('no')"
   ]
  },
  {
   "cell_type": "markdown",
   "metadata": {},
   "source": [
    "2. Check empty container or sequence\n",
    "    - No: compare length\n",
    "    - Yes: use `is not list_name`"
   ]
  },
  {
   "cell_type": "code",
   "execution_count": 9,
   "metadata": {},
   "outputs": [
    {
     "name": "stdout",
     "output_type": "stream",
     "text": [
      "False\n",
      "Not today!\n"
     ]
    }
   ],
   "source": [
    "# 1.\n",
    "a = \"\"\n",
    "print(a is True)\n",
    "\n",
    "# 2.\n",
    "if not a:\n",
    "    print(\"Not today!\")"
   ]
  },
  {
   "cell_type": "markdown",
   "metadata": {},
   "source": [
    "\n",
    "3. `if`, `while`, and `except` statement - avoid single-line statement, spread to multiline for clarity\n",
    "\n",
    "\n",
    "4. Multiline expression\n",
    "- surround with parentheses, add line break and indentation  ---->> Goal: easy to read\n",
    "- prefer not to use `\\` line continuation character\n",
    "\n",
    "\n",
    "## Imports\n",
    "- `import` statement always at the top of the file\n",
    "- use absolute name for module when import. Eg. `from bar import foo` (import `foo` module from `bar` package)\n",
    "- when using relative imports, use explicit syntax `from . import foo`\n",
    "- import order:\n",
    "    - standard library modules\n",
    "    - third-party modules\n",
    "    - own modules"
   ]
  },
  {
   "cell_type": "code",
   "execution_count": null,
   "metadata": {},
   "outputs": [],
   "source": []
  }
 ],
 "metadata": {
  "kernelspec": {
   "display_name": "Python 3",
   "language": "python",
   "name": "python3"
  },
  "language_info": {
   "codemirror_mode": {
    "name": "ipython",
    "version": 3
   },
   "file_extension": ".py",
   "mimetype": "text/x-python",
   "name": "python",
   "nbconvert_exporter": "python",
   "pygments_lexer": "ipython3",
   "version": "3.7.4"
  }
 },
 "nbformat": 4,
 "nbformat_minor": 2
}
