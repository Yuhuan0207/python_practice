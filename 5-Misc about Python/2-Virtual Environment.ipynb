{
 "cells": [
  {
   "cell_type": "markdown",
   "metadata": {},
   "source": [
    "# Isolation Tools\n",
    "\n",
    "### - Why isolation tools\n",
    "Isolation tools provides various levels of isolation between the running application to its host environment. They: \n",
    "- make it possible to test/debug code against different versions of Python and library dependencies\n",
    "- can be used to provide a consistant deployment environment\n",
    "\n",
    "\n",
    "### - Types of isolation tools\n",
    "- **virtualenv** \n",
    "    - keep dependencies required by different projects in separate places\n",
    "- **pyenv** \n",
    "    - allow multiple versions of Python interpreter to be used at the same time\n",
    "- **Autoenv** \n",
    "    - provide option to manage different environment setting outside of the scope of virtualenv\n",
    "- **virtualenvwrapper**\n",
    "    - place all virtual environments in one directory(more control and managebility)\n",
    "- **Buildout**\n",
    "    - a Python framework that allows to create and compose recipes\n",
    "- **Conda**\n",
    "    - pip + virtualenv + Buildout\n",
    "- **Docker**\n",
    "    - provide a docker container\n",
    "\n",
    "## `virtualenv`\n",
    "\n",
    "1.  **Create** virtual env\n",
    "```\n",
    "    # in the target directory\n",
    "    python3 -m venv env_name\n",
    "    # exclude virtual environment directory for git\n",
    "```\n",
    "2. **Activate** a virtual environment\n",
    "```\n",
    "    # in target directory\n",
    "    ls #--> 'env' directory\n",
    "    source env/bin/activate\n",
    "```\n",
    "3. **Leave** the virtual environment\n",
    "```\n",
    "    deactivate\n",
    "```\n",
    "\n",
    "4. **Install / Upgrade** packages\n",
    "    - Install a package: `pip install package_name`\n",
    "    - Install a specific version: `pip install package_name==2.18.4` & `pip install package_name>=2.0.0,<3.0.0`\n",
    "    - upgrade package: `pip install --upgrade package_name`\n",
    "    - install with requirement.txt: `pip install -r requirements.txt` \n",
    "\n",
    "5. Freeze **dependencies**\n",
    "    - `pip freeze` → list of all installed packages and their versions\n",
    "    - `pip freeze > requirements.txt` ——>> export to a file\n",
    "\n",
    "\n",
    "## Reference\n",
    "- [1] Book: __The Hitchiker's Guide to Python__\n",
    "- [2] Python Document: [Installing packages using pip and virtual environments](https://packaging.python.org/guides/installing-using-pip-and-virtual-environments/#)"
   ]
  },
  {
   "cell_type": "code",
   "execution_count": null,
   "metadata": {},
   "outputs": [],
   "source": []
  }
 ],
 "metadata": {
  "kernelspec": {
   "display_name": "Python 3",
   "language": "python",
   "name": "python3"
  },
  "language_info": {
   "codemirror_mode": {
    "name": "ipython",
    "version": 3
   },
   "file_extension": ".py",
   "mimetype": "text/x-python",
   "name": "python",
   "nbconvert_exporter": "python",
   "pygments_lexer": "ipython3",
   "version": "3.7.4"
  }
 },
 "nbformat": 4,
 "nbformat_minor": 2
}
